{
 "cells": [
  {
   "cell_type": "code",
   "execution_count": 1,
   "metadata": {},
   "outputs": [],
   "source": [
    "import matplotlib.pyplot as plt\n",
    "import matplotlib.image as mpimg\n",
    "import numpy as np\n",
    "from random import random"
   ]
  },
  {
   "cell_type": "code",
   "execution_count": 19,
   "metadata": {},
   "outputs": [
    {
     "data": {
      "text/plain": [
       "<matplotlib.image.AxesImage at 0x7f1b057d7c70>"
      ]
     },
     "execution_count": 19,
     "metadata": {},
     "output_type": "execute_result"
    },
    {
     "data": {
      "image/png": "[encoded data removed]",
      "text/plain": [
       "<Figure size 432x288 with 1 Axes>"
      ]
     },
     "metadata": {
      "needs_background": "light"
     },
     "output_type": "display_data"
    }
   ],
   "source": [
    "# board = np.random.uniform(size=(8,8,4))\n",
    "# board[0,1]=[0.1,0.2,0.3,0.4]\n",
    "# for i in range(8):\n",
    "#     for j in range (8):\n",
    "#         if(i+j)%2 == 0:\n",
    "#             board[i,j] = [1,1,1,1]\n",
    "#         else:\n",
    "#             board[i,j] = [0,0,0,1]\n",
    "# plt.imshow(board)"
   ]
  },
  {
   "cell_type": "code",
   "execution_count": 86,
   "metadata": {},
   "outputs": [
    {
     "name": "stdout",
     "output_type": "stream",
     "text": [
      "True\n",
      "All is good!\n"
     ]
    },
    {
     "data": {
      "image/png": "[encoded data removed]",
      "text/plain": [
       "<Figure size 432x288 with 1 Axes>"
      ]
     },
     "metadata": {
      "needs_background": "light"
     },
     "output_type": "display_data"
    }
   ],
   "source": [
    "class ChessBoard :\n",
    "    def __init__(self):\n",
    "        self.board = np.random.uniform(size=(8,8,4))\n",
    "        for i in range(8):\n",
    "            for j in range (8):\n",
    "                if(i+j)%2 == 0:\n",
    "                    self.board[i,j] = [1,1,1,1]\n",
    "                else:\n",
    "                    self.board[i,j] = [0,0,0,1]\n",
    "    def render(self):\n",
    "        plt.imshow(self.board)\n",
    "    def add_red (self,row,column):\n",
    "        self.board[row,column] = [1,0.2,0,1]\n",
    "        self.red_row = row\n",
    "        self.red_column = column\n",
    "    def add_blue (self,row,column):\n",
    "        self.board[row,column] = [0,1,1,1]\n",
    "        self.blue_row = row\n",
    "        self.blue_column = column\n",
    "        \n",
    "    def is_under_attack(self):\n",
    "        if self.red_row == self.blue_row:\n",
    "            return True\n",
    "        elif self.red_column == self.blue_column:\n",
    "            return True\n",
    "        elif abs(self.red_row - self.blue_row) == abs(self.red_column - self.blue_column):\n",
    "            return True\n",
    "        return False\n",
    "\n",
    "def tests():\n",
    "    test_same_row = ChessBoard()\n",
    "    test_same_row.add_red(6,2)\n",
    "    test_same_row.add_blue(6,5)\n",
    "    assert test_same_row.is_under_attack() is True\n",
    "    test_same_column = ChessBoard()\n",
    "    test_same_column.add_red(6,2)\n",
    "    test_same_column.add_blue(6,5)\n",
    "    assert test_same_column.is_under_attack() == True\n",
    "    test_diagonal = ChessBoard()\n",
    "    test_diagonal.add_red(2,5)\n",
    "    test_diagonal.add_blue(6,1)\n",
    "    assert test_diagonal.is_under_attack() == True\n",
    "    test_other_coordinates = ChessBoard()\n",
    "    test_diagonal.add_red(7,5)\n",
    "    test_diagonal.add_blue(6,1)\n",
    "    assert test_diagonal.is_under_attack() == False\n",
    "    print('All is good!')\n",
    "    \n",
    "\n",
    "\n",
    "        \n",
    "a = ChessBoard()\n",
    "a.add_red(6,2)\n",
    "a.add_blue(3,5)\n",
    "print(a.is_under_attack())\n",
    "a.render()\n",
    "tests()"
   ]
  },
  {
   "cell_type": "code",
   "execution_count": null,
   "metadata": {},
   "outputs": [],
   "source": []
  }
 ],
 "metadata": {
  "interpreter": {
   "hash": "ded925735e07bda8888632246c51a1178a09687311f0454eadb6573ccebc4d76"
  },
  "kernelspec": {
   "display_name": "Python 3",
   "language": "python",
   "name": "python3"
  },
  "language_info": {
   "codemirror_mode": {
    "name": "ipython",
    "version": 3
   },
   "file_extension": ".py",
   "mimetype": "text/x-python",
   "name": "python",
   "nbconvert_exporter": "python",
   "pygments_lexer": "ipython3",
   "version": "3.9.4"
  }
 },
 "nbformat": 4,
 "nbformat_minor": 4
}
